{
 "cells": [
  {
   "cell_type": "code",
   "execution_count": 1,
   "metadata": {},
   "outputs": [
    {
     "name": "stdout",
     "output_type": "stream",
     "text": [
      "Initial embedding weights:\n",
      "Parameter containing:\n",
      "tensor([[-0.6822, -0.9730],\n",
      "        [-0.1405, -0.0839]], requires_grad=True)\n",
      "\n",
      "Testing with different inputs:\n",
      "\n",
      "Input 1: tensor([0])\n",
      "Embedding: tensor([[-0.6822, -0.9730]])\n",
      "Embedding shape: torch.Size([1, 2])\n",
      "\n",
      "Input 2: tensor([1])\n",
      "Embedding: tensor([[-0.1405, -0.0839]])\n",
      "Embedding shape: torch.Size([1, 2])\n",
      "\n",
      "Input 3: tensor([0, 1])\n",
      "Embedding: tensor([[-0.6822, -0.9730],\n",
      "        [-0.1405, -0.0839]])\n",
      "Embedding shape: torch.Size([2, 2])\n",
      "\n",
      "Input 4: tensor([[0, 1],\n",
      "        [1, 0]])\n",
      "Embedding: tensor([[[-0.6822, -0.9730],\n",
      "         [-0.1405, -0.0839]],\n",
      "\n",
      "        [[-0.1405, -0.0839],\n",
      "         [-0.6822, -0.9730]]])\n",
      "Embedding shape: torch.Size([2, 2, 2])\n"
     ]
    }
   ],
   "source": [
    "import torch\n",
    "import torch.nn as nn\n",
    "\n",
    "class EmbeddingModel(nn.Module):\n",
    "    def __init__(self, vocab_size, embedding_dim=2):\n",
    "        super(EmbeddingModel, self).__init__()\n",
    "        self.embedding = nn.Embedding(vocab_size, embedding_dim)\n",
    "    \n",
    "    def forward(self, x):\n",
    "        return self.embedding(x)\n",
    "\n",
    "# Set up the model\n",
    "vocab_size = 2\n",
    "model = EmbeddingModel(vocab_size)\n",
    "\n",
    "# Print the embedding weights\n",
    "print(\"Initial embedding weights:\")\n",
    "print(model.embedding.weight)\n",
    "\n",
    "# Function to get embeddings for input\n",
    "def get_embedding(input_data):\n",
    "    with torch.no_grad():\n",
    "        return model(input_data)\n",
    "\n",
    "# Test with different inputs\n",
    "print(\"\\nTesting with different inputs:\")\n",
    "inputs = [\n",
    "    torch.LongTensor([0]),\n",
    "    torch.LongTensor([1]),\n",
    "    torch.LongTensor([0, 1]),\n",
    "    torch.LongTensor([[0, 1], [1, 0]])\n",
    "]\n",
    "\n",
    "for i, input_data in enumerate(inputs):\n",
    "    embedding = get_embedding(input_data)\n",
    "    print(f\"\\nInput {i + 1}: {input_data}\")\n",
    "    print(f\"Embedding: {embedding}\")\n",
    "    print(f\"Embedding shape: {embedding.shape}\")"
   ]
  }
 ],
 "metadata": {
  "kernelspec": {
   "display_name": "ims",
   "language": "python",
   "name": "python3"
  },
  "language_info": {
   "codemirror_mode": {
    "name": "ipython",
    "version": 3
   },
   "file_extension": ".py",
   "mimetype": "text/x-python",
   "name": "python",
   "nbconvert_exporter": "python",
   "pygments_lexer": "ipython3",
   "version": "3.10.14"
  }
 },
 "nbformat": 4,
 "nbformat_minor": 2
}
