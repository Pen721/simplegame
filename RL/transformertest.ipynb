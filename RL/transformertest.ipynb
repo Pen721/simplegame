{
 "cells": [
  {
   "cell_type": "code",
   "execution_count": 1,
   "metadata": {},
   "outputs": [],
   "source": [
    "%load_ext autoreload\n",
    "%autoreload 2"
   ]
  },
  {
   "cell_type": "code",
   "execution_count": 2,
   "metadata": {},
   "outputs": [
    {
     "name": "stdout",
     "output_type": "stream",
     "text": [
      "Initial state action probs: tensor([0.5516, 0.4484])\n"
     ]
    }
   ],
   "source": [
    "import torch\n",
    "from policies.policies import TransformerRLPolicy\n",
    "import policies.policies as policies\n",
    "\n",
    "model = TransformerRLPolicy()\n",
    "\n",
    "# Starting with just initial state (resource=10, timestep=0)\n",
    "initial_states = torch.tensor([[10.0, 0.0]], dtype=torch.float32)  # [1, 2]\n",
    "initial_actions = torch.tensor([0], dtype=torch.float32)  # [1]\n",
    "\n",
    "# Get first action\n",
    "action, probs = model.get_next_action_dist(initial_states, initial_actions)\n",
    "print(f\"Initial state action probs: {probs}\")"
   ]
  },
  {
   "cell_type": "code",
   "execution_count": 4,
   "metadata": {},
   "outputs": [
    {
     "name": "stdout",
     "output_type": "stream",
     "text": [
      "Action probabilities after history: (1, tensor([0.5796, 0.4204]))\n"
     ]
    }
   ],
   "source": [
    "# Example with sequence\n",
    "states = torch.tensor([\n",
    "    [10.0, 0.0],  # Initial state\n",
    "    [8.0, 1.0],   # After first action\n",
    "    [12.0, 2.0],  # After second action\n",
    "], dtype=torch.float32)\n",
    "\n",
    "actions = torch.tensor([0, 1, 0], dtype=torch.float32)\n",
    "\n",
    "probs = model.get_next_action_dist(states, actions)\n",
    "print(f\"Action probabilities after history: {probs}\")"
   ]
  },
  {
   "cell_type": "code",
   "execution_count": null,
   "metadata": {},
   "outputs": [],
   "source": []
  }
 ],
 "metadata": {
  "kernelspec": {
   "display_name": "base",
   "language": "python",
   "name": "python3"
  },
  "language_info": {
   "codemirror_mode": {
    "name": "ipython",
    "version": 3
   },
   "file_extension": ".py",
   "mimetype": "text/x-python",
   "name": "python",
   "nbconvert_exporter": "python",
   "pygments_lexer": "ipython3",
   "version": "3.11.4"
  }
 },
 "nbformat": 4,
 "nbformat_minor": 2
}
