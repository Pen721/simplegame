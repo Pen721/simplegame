{
 "cells": [
  {
   "cell_type": "code",
   "execution_count": 23,
   "metadata": {},
   "outputs": [
    {
     "name": "stdout",
     "output_type": "stream",
     "text": [
      "The autoreload extension is already loaded. To reload it, use:\n",
      "  %reload_ext autoreload\n"
     ]
    }
   ],
   "source": [
    "%load_ext autoreload\n",
    "%autoreload 2"
   ]
  },
  {
   "cell_type": "code",
   "execution_count": 29,
   "metadata": {},
   "outputs": [
    {
     "ename": "RuntimeError",
     "evalue": "Sizes of tensors must match except in dimension 2. Expected size 1 but got size 0 for tensor number 1 in the list.",
     "output_type": "error",
     "traceback": [
      "\u001b[0;31m---------------------------------------------------------------------------\u001b[0m",
      "\u001b[0;31mRuntimeError\u001b[0m                              Traceback (most recent call last)",
      "Cell \u001b[0;32mIn[29], line 12\u001b[0m\n\u001b[1;32m      9\u001b[0m initial_actions \u001b[38;5;241m=\u001b[39m torch\u001b[38;5;241m.\u001b[39mtensor([], dtype\u001b[38;5;241m=\u001b[39mtorch\u001b[38;5;241m.\u001b[39mfloat32)  \u001b[38;5;66;03m# [1]\u001b[39;00m\n\u001b[1;32m     11\u001b[0m \u001b[38;5;66;03m# Get first action\u001b[39;00m\n\u001b[0;32m---> 12\u001b[0m probs \u001b[38;5;241m=\u001b[39m \u001b[43mmodel\u001b[49m\u001b[38;5;241;43m.\u001b[39;49m\u001b[43mget_next_action_dist\u001b[49m\u001b[43m(\u001b[49m\u001b[43minitial_states\u001b[49m\u001b[43m,\u001b[49m\u001b[43m \u001b[49m\u001b[43minitial_actions\u001b[49m\u001b[43m)\u001b[49m\n\u001b[1;32m     13\u001b[0m \u001b[38;5;28mprint\u001b[39m(\u001b[38;5;124mf\u001b[39m\u001b[38;5;124m\"\u001b[39m\u001b[38;5;124mInitial state action probs: \u001b[39m\u001b[38;5;132;01m{\u001b[39;00mprobs\u001b[38;5;132;01m}\u001b[39;00m\u001b[38;5;124m\"\u001b[39m)\n",
      "File \u001b[0;32m~/Desktop/simplegame/RL/policies/policies.py:85\u001b[0m, in \u001b[0;36mAllPastStatePolicy.get_next_action_dist\u001b[0;34m(self, states, actions)\u001b[0m\n\u001b[1;32m     82\u001b[0m     actions \u001b[38;5;241m=\u001b[39m actions\u001b[38;5;241m.\u001b[39munsqueeze(\u001b[38;5;241m0\u001b[39m)\n\u001b[1;32m     84\u001b[0m \u001b[38;5;66;03m# Get action probabilities\u001b[39;00m\n\u001b[0;32m---> 85\u001b[0m \u001b[38;5;28;01mreturn\u001b[39;00m \u001b[38;5;28;43mself\u001b[39;49m\u001b[38;5;241;43m.\u001b[39;49m\u001b[43mforward\u001b[49m\u001b[43m(\u001b[49m\u001b[43mstates\u001b[49m\u001b[43m,\u001b[49m\u001b[43m \u001b[49m\u001b[43mactions\u001b[49m\u001b[43m)\u001b[49m\n",
      "File \u001b[0;32m~/Desktop/simplegame/RL/policies/policies.py:151\u001b[0m, in \u001b[0;36mTransformerRLPolicy.forward\u001b[0;34m(self, states, actions)\u001b[0m\n\u001b[1;32m    148\u001b[0m action_emb \u001b[38;5;241m=\u001b[39m \u001b[38;5;28mself\u001b[39m\u001b[38;5;241m.\u001b[39maction_embedding(actions)\n\u001b[1;32m    150\u001b[0m \u001b[38;5;66;03m# Combine features\u001b[39;00m\n\u001b[0;32m--> 151\u001b[0m combined \u001b[38;5;241m=\u001b[39m \u001b[43mtorch\u001b[49m\u001b[38;5;241;43m.\u001b[39;49m\u001b[43mcat\u001b[49m\u001b[43m(\u001b[49m\u001b[43m[\u001b[49m\u001b[43mstate_features\u001b[49m\u001b[43m,\u001b[49m\u001b[43m \u001b[49m\u001b[43maction_emb\u001b[49m\u001b[43m]\u001b[49m\u001b[43m,\u001b[49m\u001b[43m \u001b[49m\u001b[43mdim\u001b[49m\u001b[38;5;241;43m=\u001b[39;49m\u001b[38;5;241;43m-\u001b[39;49m\u001b[38;5;241;43m1\u001b[39;49m\u001b[43m)\u001b[49m\n\u001b[1;32m    152\u001b[0m combined \u001b[38;5;241m=\u001b[39m \u001b[38;5;28mself\u001b[39m\u001b[38;5;241m.\u001b[39mproject(combined)\n\u001b[1;32m    154\u001b[0m \u001b[38;5;66;03m# Add positional embeddings\u001b[39;00m\n",
      "\u001b[0;31mRuntimeError\u001b[0m: Sizes of tensors must match except in dimension 2. Expected size 1 but got size 0 for tensor number 1 in the list."
     ]
    }
   ],
   "source": [
    "import torch\n",
    "from policies.policies import TransformerRLPolicy\n",
    "import policies.policies as policies\n",
    "\n",
    "model = TransformerRLPolicy()\n",
    "\n",
    "# Starting with just initial state (resource=10, timestep=0)\n",
    "initial_states = torch.tensor([[10.0, 0.0]], dtype=torch.float32)  # [1, 2]\n",
    "initial_actions = torch.tensor([-1], dtype=torch.float32)  # [1]\n",
    "\n",
    "# Get first action\n",
    "probs = model.get_next_action_dist(initial_states, initial_actions)\n",
    "print(f\"Initial state action probs: {probs}\")"
   ]
  },
  {
   "cell_type": "code",
   "execution_count": 27,
   "metadata": {},
   "outputs": [
    {
     "name": "stdout",
     "output_type": "stream",
     "text": [
      "Action probabilities after history: tensor([[0.6723, 0.3277]], grad_fn=<SoftmaxBackward0>)\n"
     ]
    }
   ],
   "source": [
    "# Example with sequence\n",
    "states = [\n",
    "    [10.0, 0.0],  # Initial state\n",
    "    [8.0, 1.0],   # After first action\n",
    "    [12.0, 2.0],  # After second action\n",
    "]\n",
    "\n",
    "actions = [0, 1, 0]\n",
    "\n",
    "probs = model.get_next_action_dist(states, actions)\n",
    "print(f\"Action probabilities after history: {probs}\")"
   ]
  },
  {
   "cell_type": "code",
   "execution_count": 28,
   "metadata": {},
   "outputs": [
    {
     "data": {
      "text/plain": [
       "tensor([0.7930, 0.2070], grad_fn=<SoftmaxBackward0>)"
      ]
     },
     "execution_count": 28,
     "metadata": {},
     "output_type": "execute_result"
    }
   ],
   "source": [
    "from policies.policies import OneFCPolicy\n",
    "\n",
    "singleStateMolde = OneFCPolicy()\n",
    "\n",
    "singleStateMolde.get_next_action_dist(states, actions)"
   ]
  },
  {
   "cell_type": "code",
   "execution_count": null,
   "metadata": {},
   "outputs": [],
   "source": []
  }
 ],
 "metadata": {
  "kernelspec": {
   "display_name": "base",
   "language": "python",
   "name": "python3"
  },
  "language_info": {
   "codemirror_mode": {
    "name": "ipython",
    "version": 3
   },
   "file_extension": ".py",
   "mimetype": "text/x-python",
   "name": "python",
   "nbconvert_exporter": "python",
   "pygments_lexer": "ipython3",
   "version": "3.11.4"
  }
 },
 "nbformat": 4,
 "nbformat_minor": 2
}
