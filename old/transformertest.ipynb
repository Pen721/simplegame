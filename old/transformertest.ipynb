{
 "cells": [
  {
   "cell_type": "code",
   "execution_count": 8,
   "metadata": {},
   "outputs": [
    {
     "name": "stdout",
     "output_type": "stream",
     "text": [
      "The autoreload extension is already loaded. To reload it, use:\n",
      "  %reload_ext autoreload\n"
     ]
    }
   ],
   "source": [
    "%load_ext autoreload\n",
    "%autoreload 2"
   ]
  },
  {
   "cell_type": "code",
   "execution_count": 10,
   "metadata": {},
   "outputs": [
    {
     "name": "stdout",
     "output_type": "stream",
     "text": [
      "Initial state action probs: tensor([0.5857, 0.4143], grad_fn=<SelectBackward0>)\n"
     ]
    }
   ],
   "source": [
    "import torch\n",
    "from policies.policies import TransformerRLPolicy\n",
    "import policies.policies as policies\n",
    "\n",
    "model = TransformerRLPolicy()\n",
    "\n",
    "# Starting with just initial state (resource=10, timestep=0)\n",
    "initial_states = [[10, 0]]\n",
    "initial_actions = [-1]\n",
    "\n",
    "# Get first action\n",
    "probs = model.get_next_action_dist(initial_states, initial_actions)\n",
    "print(f\"Initial state action probs: {probs}\")"
   ]
  },
  {
   "cell_type": "code",
   "execution_count": 6,
   "metadata": {},
   "outputs": [
    {
     "name": "stdout",
     "output_type": "stream",
     "text": [
      "Action probabilities after history: tensor([0.4023, 0.5977], grad_fn=<SelectBackward0>)\n"
     ]
    }
   ],
   "source": [
    "# Example with sequence\n",
    "states = [\n",
    "    [10.0, 0.0],  # Initial state\n",
    "    [8.0, 1.0],   # After first action\n",
    "    [12.0, 2.0],  # After second action\n",
    "]\n",
    "\n",
    "actions = [-1, 1, 0]\n",
    "\n",
    "probs = model.get_next_action_dist(states, actions)\n",
    "print(f\"Action probabilities after history: {probs}\")"
   ]
  },
  {
   "cell_type": "code",
   "execution_count": 7,
   "metadata": {},
   "outputs": [
    {
     "data": {
      "text/plain": [
       "tensor([2.1883e-04, 9.9978e-01], grad_fn=<SoftmaxBackward0>)"
      ]
     },
     "execution_count": 7,
     "metadata": {},
     "output_type": "execute_result"
    }
   ],
   "source": [
    "from policies.policies import OneFCPolicy\n",
    "\n",
    "singleStateMolde = OneFCPolicy()\n",
    "\n",
    "singleStateMolde.get_next_action_dist(states, actions)"
   ]
  },
  {
   "cell_type": "code",
   "execution_count": null,
   "metadata": {},
   "outputs": [],
   "source": []
  }
 ],
 "metadata": {
  "kernelspec": {
   "display_name": "base",
   "language": "python",
   "name": "python3"
  },
  "language_info": {
   "codemirror_mode": {
    "name": "ipython",
    "version": 3
   },
   "file_extension": ".py",
   "mimetype": "text/x-python",
   "name": "python",
   "nbconvert_exporter": "python",
   "pygments_lexer": "ipython3",
   "version": "3.11.4"
  }
 },
 "nbformat": 4,
 "nbformat_minor": 2
}
